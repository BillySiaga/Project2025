{
  "nbformat": 4,
  "nbformat_minor": 0,
  "metadata": {
    "colab": {
      "provenance": [],
      "authorship_tag": "ABX9TyMdSAoAwE5Qs1c5B+kgw8DK",
      "include_colab_link": true
    },
    "kernelspec": {
      "name": "python3",
      "display_name": "Python 3"
    },
    "language_info": {
      "name": "python"
    }
  },
  "cells": [
    {
      "cell_type": "markdown",
      "metadata": {
        "id": "view-in-github",
        "colab_type": "text"
      },
      "source": [
        "<a href=\"https://colab.research.google.com/github/BillySiaga/Project2025/blob/main/Python_Project.ipynb\" target=\"_parent\"><img src=\"https://colab.research.google.com/assets/colab-badge.svg\" alt=\"Open In Colab\"/></a>"
      ]
    },
    {
      "cell_type": "markdown",
      "source": [
        "## Python Project, extracting data, cleaning and analyzing product data\n",
        "What You're Aiming For\n",
        "\n",
        "To extract, clean, and analyze product data from an online retailer's platform to identify pricing trends, product availability, and promotional patterns across various categories.\n",
        "\n",
        "\n",
        "Instructions\n",
        "\n",
        "Steps :\n",
        "\n",
        "Web Scraping:\n",
        "\n",
        "Utilize Python libraries such as BeautifulSoup to scrape product information from an online website.\n",
        "Collect data attributes including product names, categories, prices, availability status, and promotional details.\n",
        "Data Cleaning:\n",
        "\n",
        "\n",
        "Address missing or inconsistent data entries, such as absent prices or ambiguous product descriptions.\n",
        "Standardize text fields to ensure uniformity in product names and categories.\n",
        "\n",
        "Data Transformation:\n",
        "\n",
        "\n",
        "Convert price data into numerical formats for analysis.\n",
        "Categorize products into hierarchical groups (e.g., Electronics > Mobile Phones > Smartphones).\n",
        "\n",
        "Data Analysis:\n",
        "\n",
        "\n",
        "Conduct exploratory data analysis (EDA) to uncover insights:\n",
        "Identify average pricing within each product category.\n",
        "Detect seasonal or promotional pricing patterns.\n",
        "Assess product availability trends over time.\n",
        "\n",
        "Data Visualization:\n",
        "\n",
        "\n",
        "Employ visualization library Plotly to create some charts."
      ],
      "metadata": {
        "id": "Es8UQaZSkERE"
      }
    },
    {
      "cell_type": "markdown",
      "source": [
        "## Step 1 Web Scraping\n",
        "Utilize Python libraries such as BeautifulSoup to scrape product information from an online website.\n",
        "Collect data attributes including product names, categories, prices, availability status, and promotional details."
      ],
      "metadata": {
        "id": "lzt3-vhtlOGq"
      }
    },
    {
      "cell_type": "code",
      "source": [
        "#web scraping\n",
        "# Utilize Python libraries such as BeautifulSoup to scrape product information from an online website.\n",
        "# Collect data attributes including product names, categories, prices, availability status, and promotional details.\n",
        "#\n",
        "\n",
        "from bs4 import BeautifulSoup\n",
        "import requests\n",
        "import pandas as pd\n",
        "import numpy as np"
      ],
      "metadata": {
        "id": "6ukWXExxmVDI"
      },
      "execution_count": null,
      "outputs": []
    },
    {
      "cell_type": "code",
      "source": [
        "# scraping ebay website\n",
        "url = 'https://www.ebay.com/'\n",
        "page = requests.get(url)\n",
        "soup = BeautifulSoup(page.content, 'html.parser')\n",
        "page.status_code"
      ],
      "metadata": {
        "colab": {
          "base_uri": "https://localhost:8080/"
        },
        "id": "x4lzRSl_mlSt",
        "outputId": "efb598e6-65d8-4d4f-ca4c-575e088d407a"
      },
      "execution_count": 6,
      "outputs": [
        {
          "output_type": "execute_result",
          "data": {
            "text/plain": [
              "200"
            ]
          },
          "metadata": {},
          "execution_count": 6
        }
      ]
    },
    {
      "cell_type": "code",
      "source": [
        "print(soup.prettify()[:1000])"
      ],
      "metadata": {
        "colab": {
          "base_uri": "https://localhost:8080/"
        },
        "collapsed": true,
        "id": "xhc5xV3HspxI",
        "outputId": "d04b4845-b555-431a-b054-64c73899d92c"
      },
      "execution_count": 26,
      "outputs": [
        {
          "output_type": "stream",
          "name": "stdout",
          "text": [
            "<!DOCTYPE html>\n",
            "<!--[if lt IE 7]>      <html lang=\"en-us\" class=\"no-js lt-ie9 lt-ie8 lt-ie7\"> <![endif]-->\n",
            "<!--[if IE 7]>         <html lang=\"en-us\" class=\"no-js lt-ie9 lt-ie8\"> <![endif]-->\n",
            "<!--[if IE 8]>         <html lang=\"en-us\" class=\"no-js lt-ie9\"> <![endif]-->\n",
            "<!--[if gt IE 8]><!-->\n",
            "<html class=\"no-js\" lang=\"en-us\">\n",
            " <!--<![endif]-->\n",
            " <head>\n",
            "  <title>\n",
            "   All products | Books to Scrape - Sandbox\n",
            "  </title>\n",
            "  <meta content=\"text/html; charset=utf-8\" http-equiv=\"content-type\"/>\n",
            "  <meta content=\"24th Jun 2016 09:29\" name=\"created\"/>\n",
            "  <meta content=\"\" name=\"description\"/>\n",
            "  <meta content=\"width=device-width\" name=\"viewport\"/>\n",
            "  <meta content=\"NOARCHIVE,NOCACHE\" name=\"robots\"/>\n",
            "  <!-- Le HTML5 shim, for IE6-8 support of HTML elements -->\n",
            "  <!--[if lt IE 9]>\n",
            "        <script src=\"//html5shim.googlecode.com/svn/trunk/html5.js\"></script>\n",
            "        <![endif]-->\n",
            "  <link href=\"static/oscar/favicon.ico\" rel=\"shortcut icon\"/>\n",
            "  <link href=\"static/oscar/css/styles.css\" rel=\"stylesheet\" type=\"tex\n"
          ]
        }
      ]
    },
    {
      "cell_type": "code",
      "source": [
        "url = \"http://books.toscrape.com/\"\n",
        "response = requests.get(url)\n",
        "soup = BeautifulSoup(response.text, \"html.parser\")\n",
        "\n",
        "books = []\n",
        "\n",
        "for item in soup.select(\"article.product_pod\"):\n",
        "    title = item.h3.a['title']\n",
        "    price = item.select_one(\".price_color\").text\n",
        "    availability = item.select_one(\".availability\").text.strip()\n",
        "\n",
        "    books.append({\n",
        "        \"name\": title,\n",
        "        \"price\": price,\n",
        "        \"availability\": availability,\n",
        "        \"category\": \"Books\",\n",
        "        \"promotion\": \"No Promo\"\n",
        "    })\n",
        "\n",
        "df = pd.DataFrame(books)\n",
        "print(df.head(30))\n"
      ],
      "metadata": {
        "colab": {
          "base_uri": "https://localhost:8080/"
        },
        "id": "Y_3nD3uPuMtV",
        "outputId": "81c8e102-350a-440a-d9d0-82e3d069e6fc"
      },
      "execution_count": 29,
      "outputs": [
        {
          "output_type": "stream",
          "name": "stdout",
          "text": [
            "                                                 name    price availability  \\\n",
            "0                                A Light in the Attic  Â£51.77     In stock   \n",
            "1                                  Tipping the Velvet  Â£53.74     In stock   \n",
            "2                                          Soumission  Â£50.10     In stock   \n",
            "3                                       Sharp Objects  Â£47.82     In stock   \n",
            "4               Sapiens: A Brief History of Humankind  Â£54.23     In stock   \n",
            "5                                     The Requiem Red  Â£22.65     In stock   \n",
            "6   The Dirty Little Secrets of Getting Your Dream...  Â£33.34     In stock   \n",
            "7   The Coming Woman: A Novel Based on the Life of...  Â£17.93     In stock   \n",
            "8   The Boys in the Boat: Nine Americans and Their...  Â£22.60     In stock   \n",
            "9                                     The Black Maria  Â£52.15     In stock   \n",
            "10     Starving Hearts (Triangular Trade Trilogy, #1)  Â£13.99     In stock   \n",
            "11                              Shakespeare's Sonnets  Â£20.66     In stock   \n",
            "12                                        Set Me Free  Â£17.46     In stock   \n",
            "13  Scott Pilgrim's Precious Little Life (Scott Pi...  Â£52.29     In stock   \n",
            "14                          Rip it Up and Start Again  Â£35.02     In stock   \n",
            "15  Our Band Could Be Your Life: Scenes from the A...  Â£57.25     In stock   \n",
            "16                                               Olio  Â£23.88     In stock   \n",
            "17  Mesaerion: The Best Science Fiction Stories 18...  Â£37.59     In stock   \n",
            "18                       Libertarianism for Beginners  Â£51.33     In stock   \n",
            "19                            It's Only the Himalayas  Â£45.17     In stock   \n",
            "\n",
            "   category promotion  \n",
            "0     Books  No Promo  \n",
            "1     Books  No Promo  \n",
            "2     Books  No Promo  \n",
            "3     Books  No Promo  \n",
            "4     Books  No Promo  \n",
            "5     Books  No Promo  \n",
            "6     Books  No Promo  \n",
            "7     Books  No Promo  \n",
            "8     Books  No Promo  \n",
            "9     Books  No Promo  \n",
            "10    Books  No Promo  \n",
            "11    Books  No Promo  \n",
            "12    Books  No Promo  \n",
            "13    Books  No Promo  \n",
            "14    Books  No Promo  \n",
            "15    Books  No Promo  \n",
            "16    Books  No Promo  \n",
            "17    Books  No Promo  \n",
            "18    Books  No Promo  \n",
            "19    Books  No Promo  \n"
          ]
        }
      ]
    },
    {
      "cell_type": "markdown",
      "source": [
        "## Data Cleaning\n",
        "Address missing or inconsistent data entries, such as absent prices or ambiguous product descriptions.\n",
        "Standardize text fields to ensure uniformity in product names and categories.\n",
        ""
      ],
      "metadata": {
        "id": "6IX5r659y34j"
      }
    },
    {
      "cell_type": "code",
      "source": [
        "#checking missing values\n",
        "df.isnull().sum()"
      ],
      "metadata": {
        "colab": {
          "base_uri": "https://localhost:8080/",
          "height": 241
        },
        "id": "UJWowqt_zD1Y",
        "outputId": "f7572c2b-3fbe-4b6f-af01-b702e81e0cbe"
      },
      "execution_count": 30,
      "outputs": [
        {
          "output_type": "execute_result",
          "data": {
            "text/plain": [
              "name            0\n",
              "price           0\n",
              "availability    0\n",
              "category        0\n",
              "promotion       0\n",
              "dtype: int64"
            ],
            "text/html": [
              "<div>\n",
              "<style scoped>\n",
              "    .dataframe tbody tr th:only-of-type {\n",
              "        vertical-align: middle;\n",
              "    }\n",
              "\n",
              "    .dataframe tbody tr th {\n",
              "        vertical-align: top;\n",
              "    }\n",
              "\n",
              "    .dataframe thead th {\n",
              "        text-align: right;\n",
              "    }\n",
              "</style>\n",
              "<table border=\"1\" class=\"dataframe\">\n",
              "  <thead>\n",
              "    <tr style=\"text-align: right;\">\n",
              "      <th></th>\n",
              "      <th>0</th>\n",
              "    </tr>\n",
              "  </thead>\n",
              "  <tbody>\n",
              "    <tr>\n",
              "      <th>name</th>\n",
              "      <td>0</td>\n",
              "    </tr>\n",
              "    <tr>\n",
              "      <th>price</th>\n",
              "      <td>0</td>\n",
              "    </tr>\n",
              "    <tr>\n",
              "      <th>availability</th>\n",
              "      <td>0</td>\n",
              "    </tr>\n",
              "    <tr>\n",
              "      <th>category</th>\n",
              "      <td>0</td>\n",
              "    </tr>\n",
              "    <tr>\n",
              "      <th>promotion</th>\n",
              "      <td>0</td>\n",
              "    </tr>\n",
              "  </tbody>\n",
              "</table>\n",
              "</div><br><label><b>dtype:</b> int64</label>"
            ]
          },
          "metadata": {},
          "execution_count": 30
        }
      ]
    },
    {
      "cell_type": "code",
      "source": [
        "# standardizing item fields to ensure consistency\n",
        "df['name'] = df['name'].str.lower()\n",
        "df['category'] = df['category'].str.lower()\n",
        "df.columns.tolist()\n"
      ],
      "metadata": {
        "colab": {
          "base_uri": "https://localhost:8080/"
        },
        "id": "YFTzNaFczP_R",
        "outputId": "7291fbda-2c55-446a-e29a-bea300764dcd"
      },
      "execution_count": 33,
      "outputs": [
        {
          "output_type": "execute_result",
          "data": {
            "text/plain": [
              "['name', 'price', 'availability', 'category', 'promotion']"
            ]
          },
          "metadata": {},
          "execution_count": 33
        }
      ]
    },
    {
      "cell_type": "markdown",
      "source": [
        "## Data Transformation"
      ],
      "metadata": {
        "id": "WSJiiKhTzybl"
      }
    },
    {
      "cell_type": "code",
      "source": [
        "#Convert price data into numerical formats for analysis.\n",
        "\n",
        "df['price'] = df['price'].astype(str)  # First convert to string type to handle potential non-string values\n",
        "df['price'] = df['price'].str.replace('Â', '', regex=False) # Removing the problematic character 'Â', if present\n",
        "df['price'] = df['price'].astype(float)\n",
        "print(df['price'].describe())"
      ],
      "metadata": {
        "colab": {
          "base_uri": "https://localhost:8080/"
        },
        "id": "wzgJD9vTz2TM",
        "outputId": "7bf270a9-f7c0-40b2-c480-5b1c77065f94"
      },
      "execution_count": 39,
      "outputs": [
        {
          "output_type": "stream",
          "name": "stdout",
          "text": [
            "count    20.000000\n",
            "mean     38.048500\n",
            "std      15.135231\n",
            "min      13.990000\n",
            "25%      22.637500\n",
            "50%      41.380000\n",
            "75%      51.865000\n",
            "max      57.250000\n",
            "Name: price, dtype: float64\n"
          ]
        }
      ]
    },
    {
      "cell_type": "code",
      "source": [
        "#Categorize products into hierarchical groups\n",
        "# creating a new column for hierachical categories\n",
        "#\n",
        "df['hierarchical_category'] = \"Books > \" + df['category']\n",
        "print(df.head(30))\n"
      ],
      "metadata": {
        "colab": {
          "base_uri": "https://localhost:8080/"
        },
        "id": "l9wWhfIf1fnr",
        "outputId": "887385e6-a2ce-40f3-e709-0041ae838877"
      },
      "execution_count": 40,
      "outputs": [
        {
          "output_type": "stream",
          "name": "stdout",
          "text": [
            "                                                 name  price availability  \\\n",
            "0                                a light in the attic  51.77     In stock   \n",
            "1                                  tipping the velvet  53.74     In stock   \n",
            "2                                          soumission  50.10     In stock   \n",
            "3                                       sharp objects  47.82     In stock   \n",
            "4               sapiens: a brief history of humankind  54.23     In stock   \n",
            "5                                     the requiem red  22.65     In stock   \n",
            "6   the dirty little secrets of getting your dream...  33.34     In stock   \n",
            "7   the coming woman: a novel based on the life of...  17.93     In stock   \n",
            "8   the boys in the boat: nine americans and their...  22.60     In stock   \n",
            "9                                     the black maria  52.15     In stock   \n",
            "10     starving hearts (triangular trade trilogy, #1)  13.99     In stock   \n",
            "11                              shakespeare's sonnets  20.66     In stock   \n",
            "12                                        set me free  17.46     In stock   \n",
            "13  scott pilgrim's precious little life (scott pi...  52.29     In stock   \n",
            "14                          rip it up and start again  35.02     In stock   \n",
            "15  our band could be your life: scenes from the a...  57.25     In stock   \n",
            "16                                               olio  23.88     In stock   \n",
            "17  mesaerion: the best science fiction stories 18...  37.59     In stock   \n",
            "18                       libertarianism for beginners  51.33     In stock   \n",
            "19                            it's only the himalayas  45.17     In stock   \n",
            "\n",
            "   category promotion hierarchical_category  \n",
            "0     books  No Promo         Books > books  \n",
            "1     books  No Promo         Books > books  \n",
            "2     books  No Promo         Books > books  \n",
            "3     books  No Promo         Books > books  \n",
            "4     books  No Promo         Books > books  \n",
            "5     books  No Promo         Books > books  \n",
            "6     books  No Promo         Books > books  \n",
            "7     books  No Promo         Books > books  \n",
            "8     books  No Promo         Books > books  \n",
            "9     books  No Promo         Books > books  \n",
            "10    books  No Promo         Books > books  \n",
            "11    books  No Promo         Books > books  \n",
            "12    books  No Promo         Books > books  \n",
            "13    books  No Promo         Books > books  \n",
            "14    books  No Promo         Books > books  \n",
            "15    books  No Promo         Books > books  \n",
            "16    books  No Promo         Books > books  \n",
            "17    books  No Promo         Books > books  \n",
            "18    books  No Promo         Books > books  \n",
            "19    books  No Promo         Books > books  \n"
          ]
        }
      ]
    },
    {
      "cell_type": "code",
      "source": [
        "df.columns.tolist()"
      ],
      "metadata": {
        "colab": {
          "base_uri": "https://localhost:8080/"
        },
        "collapsed": true,
        "id": "JBQrOGmR2TZk",
        "outputId": "fcdc5544-15e8-40eb-ae26-d0631c0adc55"
      },
      "execution_count": 42,
      "outputs": [
        {
          "output_type": "execute_result",
          "data": {
            "text/plain": [
              "['name',\n",
              " 'price',\n",
              " 'availability',\n",
              " 'category',\n",
              " 'promotion',\n",
              " 'hierarchical_category']"
            ]
          },
          "metadata": {},
          "execution_count": 42
        }
      ]
    },
    {
      "cell_type": "markdown",
      "source": [
        "## Data Analysis:\n",
        "Conduct exploratory data analysis (EDA) to uncover insights"
      ],
      "metadata": {
        "id": "JEziwMSp3TdW"
      }
    },
    {
      "cell_type": "code",
      "source": [
        "# data analysis\n",
        "#Identify average pricing within each product category.\n",
        "#\n",
        "print(df.groupby('category')['price'].mean())"
      ],
      "metadata": {
        "colab": {
          "base_uri": "https://localhost:8080/"
        },
        "id": "ZYjQ-A7h3dqN",
        "outputId": "ac84b8c5-a567-4897-8038-0d28a815f011"
      },
      "execution_count": 47,
      "outputs": [
        {
          "output_type": "stream",
          "name": "stdout",
          "text": [
            "category\n",
            "books    38.0485\n",
            "Name: price, dtype: float64\n"
          ]
        }
      ]
    },
    {
      "cell_type": "markdown",
      "source": [
        "## Data Visualization:\n",
        "\n",
        "Employ visualization library Plotly to create some charts."
      ],
      "metadata": {
        "id": "wdOjbQuE4NGJ"
      }
    },
    {
      "cell_type": "code",
      "source": [
        "#data visualization with a visualziation library\n",
        "#\n",
        "import plotly.express as px\n",
        "\n",
        "fig = px.bar(df, x='category', y='price', color='category', title='Average Price by Category')\n",
        "fig.show()"
      ],
      "metadata": {
        "colab": {
          "base_uri": "https://localhost:8080/",
          "height": 542
        },
        "id": "HeGVYjeB4RuI",
        "outputId": "91db1656-ea29-4c4e-c577-7c0c2a8786a7"
      },
      "execution_count": 48,
      "outputs": [
        {
          "output_type": "display_data",
          "data": {
            "text/html": [
              "<html>\n",
              "<head><meta charset=\"utf-8\" /></head>\n",
              "<body>\n",
              "    <div>            <script src=\"https://cdnjs.cloudflare.com/ajax/libs/mathjax/2.7.5/MathJax.js?config=TeX-AMS-MML_SVG\"></script><script type=\"text/javascript\">if (window.MathJax && window.MathJax.Hub && window.MathJax.Hub.Config) {window.MathJax.Hub.Config({SVG: {font: \"STIX-Web\"}});}</script>                <script type=\"text/javascript\">window.PlotlyConfig = {MathJaxConfig: 'local'};</script>\n",
              "        <script charset=\"utf-8\" src=\"https://cdn.plot.ly/plotly-2.35.2.min.js\"></script>                <div id=\"3312e64b-5991-4820-aef9-f49793a7fd8a\" class=\"plotly-graph-div\" style=\"height:525px; width:100%;\"></div>            <script type=\"text/javascript\">                                    window.PLOTLYENV=window.PLOTLYENV || {};                                    if (document.getElementById(\"3312e64b-5991-4820-aef9-f49793a7fd8a\")) {                    Plotly.newPlot(                        \"3312e64b-5991-4820-aef9-f49793a7fd8a\",                        [{\"alignmentgroup\":\"True\",\"hovertemplate\":\"category=%{x}\\u003cbr\\u003eprice=%{y}\\u003cextra\\u003e\\u003c\\u002fextra\\u003e\",\"legendgroup\":\"books\",\"marker\":{\"color\":\"#636efa\",\"pattern\":{\"shape\":\"\"}},\"name\":\"books\",\"offsetgroup\":\"books\",\"orientation\":\"v\",\"showlegend\":true,\"textposition\":\"auto\",\"x\":[\"books\",\"books\",\"books\",\"books\",\"books\",\"books\",\"books\",\"books\",\"books\",\"books\",\"books\",\"books\",\"books\",\"books\",\"books\",\"books\",\"books\",\"books\",\"books\",\"books\"],\"xaxis\":\"x\",\"y\":[51.77,53.74,50.1,47.82,54.23,22.65,33.34,17.93,22.6,52.15,13.99,20.66,17.46,52.29,35.02,57.25,23.88,37.59,51.33,45.17],\"yaxis\":\"y\",\"type\":\"bar\"}],                        {\"template\":{\"data\":{\"histogram2dcontour\":[{\"type\":\"histogram2dcontour\",\"colorbar\":{\"outlinewidth\":0,\"ticks\":\"\"},\"colorscale\":[[0.0,\"#0d0887\"],[0.1111111111111111,\"#46039f\"],[0.2222222222222222,\"#7201a8\"],[0.3333333333333333,\"#9c179e\"],[0.4444444444444444,\"#bd3786\"],[0.5555555555555556,\"#d8576b\"],[0.6666666666666666,\"#ed7953\"],[0.7777777777777778,\"#fb9f3a\"],[0.8888888888888888,\"#fdca26\"],[1.0,\"#f0f921\"]]}],\"choropleth\":[{\"type\":\"choropleth\",\"colorbar\":{\"outlinewidth\":0,\"ticks\":\"\"}}],\"histogram2d\":[{\"type\":\"histogram2d\",\"colorbar\":{\"outlinewidth\":0,\"ticks\":\"\"},\"colorscale\":[[0.0,\"#0d0887\"],[0.1111111111111111,\"#46039f\"],[0.2222222222222222,\"#7201a8\"],[0.3333333333333333,\"#9c179e\"],[0.4444444444444444,\"#bd3786\"],[0.5555555555555556,\"#d8576b\"],[0.6666666666666666,\"#ed7953\"],[0.7777777777777778,\"#fb9f3a\"],[0.8888888888888888,\"#fdca26\"],[1.0,\"#f0f921\"]]}],\"heatmap\":[{\"type\":\"heatmap\",\"colorbar\":{\"outlinewidth\":0,\"ticks\":\"\"},\"colorscale\":[[0.0,\"#0d0887\"],[0.1111111111111111,\"#46039f\"],[0.2222222222222222,\"#7201a8\"],[0.3333333333333333,\"#9c179e\"],[0.4444444444444444,\"#bd3786\"],[0.5555555555555556,\"#d8576b\"],[0.6666666666666666,\"#ed7953\"],[0.7777777777777778,\"#fb9f3a\"],[0.8888888888888888,\"#fdca26\"],[1.0,\"#f0f921\"]]}],\"heatmapgl\":[{\"type\":\"heatmapgl\",\"colorbar\":{\"outlinewidth\":0,\"ticks\":\"\"},\"colorscale\":[[0.0,\"#0d0887\"],[0.1111111111111111,\"#46039f\"],[0.2222222222222222,\"#7201a8\"],[0.3333333333333333,\"#9c179e\"],[0.4444444444444444,\"#bd3786\"],[0.5555555555555556,\"#d8576b\"],[0.6666666666666666,\"#ed7953\"],[0.7777777777777778,\"#fb9f3a\"],[0.8888888888888888,\"#fdca26\"],[1.0,\"#f0f921\"]]}],\"contourcarpet\":[{\"type\":\"contourcarpet\",\"colorbar\":{\"outlinewidth\":0,\"ticks\":\"\"}}],\"contour\":[{\"type\":\"contour\",\"colorbar\":{\"outlinewidth\":0,\"ticks\":\"\"},\"colorscale\":[[0.0,\"#0d0887\"],[0.1111111111111111,\"#46039f\"],[0.2222222222222222,\"#7201a8\"],[0.3333333333333333,\"#9c179e\"],[0.4444444444444444,\"#bd3786\"],[0.5555555555555556,\"#d8576b\"],[0.6666666666666666,\"#ed7953\"],[0.7777777777777778,\"#fb9f3a\"],[0.8888888888888888,\"#fdca26\"],[1.0,\"#f0f921\"]]}],\"surface\":[{\"type\":\"surface\",\"colorbar\":{\"outlinewidth\":0,\"ticks\":\"\"},\"colorscale\":[[0.0,\"#0d0887\"],[0.1111111111111111,\"#46039f\"],[0.2222222222222222,\"#7201a8\"],[0.3333333333333333,\"#9c179e\"],[0.4444444444444444,\"#bd3786\"],[0.5555555555555556,\"#d8576b\"],[0.6666666666666666,\"#ed7953\"],[0.7777777777777778,\"#fb9f3a\"],[0.8888888888888888,\"#fdca26\"],[1.0,\"#f0f921\"]]}],\"mesh3d\":[{\"type\":\"mesh3d\",\"colorbar\":{\"outlinewidth\":0,\"ticks\":\"\"}}],\"scatter\":[{\"fillpattern\":{\"fillmode\":\"overlay\",\"size\":10,\"solidity\":0.2},\"type\":\"scatter\"}],\"parcoords\":[{\"type\":\"parcoords\",\"line\":{\"colorbar\":{\"outlinewidth\":0,\"ticks\":\"\"}}}],\"scatterpolargl\":[{\"type\":\"scatterpolargl\",\"marker\":{\"colorbar\":{\"outlinewidth\":0,\"ticks\":\"\"}}}],\"bar\":[{\"error_x\":{\"color\":\"#2a3f5f\"},\"error_y\":{\"color\":\"#2a3f5f\"},\"marker\":{\"line\":{\"color\":\"#E5ECF6\",\"width\":0.5},\"pattern\":{\"fillmode\":\"overlay\",\"size\":10,\"solidity\":0.2}},\"type\":\"bar\"}],\"scattergeo\":[{\"type\":\"scattergeo\",\"marker\":{\"colorbar\":{\"outlinewidth\":0,\"ticks\":\"\"}}}],\"scatterpolar\":[{\"type\":\"scatterpolar\",\"marker\":{\"colorbar\":{\"outlinewidth\":0,\"ticks\":\"\"}}}],\"histogram\":[{\"marker\":{\"pattern\":{\"fillmode\":\"overlay\",\"size\":10,\"solidity\":0.2}},\"type\":\"histogram\"}],\"scattergl\":[{\"type\":\"scattergl\",\"marker\":{\"colorbar\":{\"outlinewidth\":0,\"ticks\":\"\"}}}],\"scatter3d\":[{\"type\":\"scatter3d\",\"line\":{\"colorbar\":{\"outlinewidth\":0,\"ticks\":\"\"}},\"marker\":{\"colorbar\":{\"outlinewidth\":0,\"ticks\":\"\"}}}],\"scattermapbox\":[{\"type\":\"scattermapbox\",\"marker\":{\"colorbar\":{\"outlinewidth\":0,\"ticks\":\"\"}}}],\"scatterternary\":[{\"type\":\"scatterternary\",\"marker\":{\"colorbar\":{\"outlinewidth\":0,\"ticks\":\"\"}}}],\"scattercarpet\":[{\"type\":\"scattercarpet\",\"marker\":{\"colorbar\":{\"outlinewidth\":0,\"ticks\":\"\"}}}],\"carpet\":[{\"aaxis\":{\"endlinecolor\":\"#2a3f5f\",\"gridcolor\":\"white\",\"linecolor\":\"white\",\"minorgridcolor\":\"white\",\"startlinecolor\":\"#2a3f5f\"},\"baxis\":{\"endlinecolor\":\"#2a3f5f\",\"gridcolor\":\"white\",\"linecolor\":\"white\",\"minorgridcolor\":\"white\",\"startlinecolor\":\"#2a3f5f\"},\"type\":\"carpet\"}],\"table\":[{\"cells\":{\"fill\":{\"color\":\"#EBF0F8\"},\"line\":{\"color\":\"white\"}},\"header\":{\"fill\":{\"color\":\"#C8D4E3\"},\"line\":{\"color\":\"white\"}},\"type\":\"table\"}],\"barpolar\":[{\"marker\":{\"line\":{\"color\":\"#E5ECF6\",\"width\":0.5},\"pattern\":{\"fillmode\":\"overlay\",\"size\":10,\"solidity\":0.2}},\"type\":\"barpolar\"}],\"pie\":[{\"automargin\":true,\"type\":\"pie\"}]},\"layout\":{\"autotypenumbers\":\"strict\",\"colorway\":[\"#636efa\",\"#EF553B\",\"#00cc96\",\"#ab63fa\",\"#FFA15A\",\"#19d3f3\",\"#FF6692\",\"#B6E880\",\"#FF97FF\",\"#FECB52\"],\"font\":{\"color\":\"#2a3f5f\"},\"hovermode\":\"closest\",\"hoverlabel\":{\"align\":\"left\"},\"paper_bgcolor\":\"white\",\"plot_bgcolor\":\"#E5ECF6\",\"polar\":{\"bgcolor\":\"#E5ECF6\",\"angularaxis\":{\"gridcolor\":\"white\",\"linecolor\":\"white\",\"ticks\":\"\"},\"radialaxis\":{\"gridcolor\":\"white\",\"linecolor\":\"white\",\"ticks\":\"\"}},\"ternary\":{\"bgcolor\":\"#E5ECF6\",\"aaxis\":{\"gridcolor\":\"white\",\"linecolor\":\"white\",\"ticks\":\"\"},\"baxis\":{\"gridcolor\":\"white\",\"linecolor\":\"white\",\"ticks\":\"\"},\"caxis\":{\"gridcolor\":\"white\",\"linecolor\":\"white\",\"ticks\":\"\"}},\"coloraxis\":{\"colorbar\":{\"outlinewidth\":0,\"ticks\":\"\"}},\"colorscale\":{\"sequential\":[[0.0,\"#0d0887\"],[0.1111111111111111,\"#46039f\"],[0.2222222222222222,\"#7201a8\"],[0.3333333333333333,\"#9c179e\"],[0.4444444444444444,\"#bd3786\"],[0.5555555555555556,\"#d8576b\"],[0.6666666666666666,\"#ed7953\"],[0.7777777777777778,\"#fb9f3a\"],[0.8888888888888888,\"#fdca26\"],[1.0,\"#f0f921\"]],\"sequentialminus\":[[0.0,\"#0d0887\"],[0.1111111111111111,\"#46039f\"],[0.2222222222222222,\"#7201a8\"],[0.3333333333333333,\"#9c179e\"],[0.4444444444444444,\"#bd3786\"],[0.5555555555555556,\"#d8576b\"],[0.6666666666666666,\"#ed7953\"],[0.7777777777777778,\"#fb9f3a\"],[0.8888888888888888,\"#fdca26\"],[1.0,\"#f0f921\"]],\"diverging\":[[0,\"#8e0152\"],[0.1,\"#c51b7d\"],[0.2,\"#de77ae\"],[0.3,\"#f1b6da\"],[0.4,\"#fde0ef\"],[0.5,\"#f7f7f7\"],[0.6,\"#e6f5d0\"],[0.7,\"#b8e186\"],[0.8,\"#7fbc41\"],[0.9,\"#4d9221\"],[1,\"#276419\"]]},\"xaxis\":{\"gridcolor\":\"white\",\"linecolor\":\"white\",\"ticks\":\"\",\"title\":{\"standoff\":15},\"zerolinecolor\":\"white\",\"automargin\":true,\"zerolinewidth\":2},\"yaxis\":{\"gridcolor\":\"white\",\"linecolor\":\"white\",\"ticks\":\"\",\"title\":{\"standoff\":15},\"zerolinecolor\":\"white\",\"automargin\":true,\"zerolinewidth\":2},\"scene\":{\"xaxis\":{\"backgroundcolor\":\"#E5ECF6\",\"gridcolor\":\"white\",\"linecolor\":\"white\",\"showbackground\":true,\"ticks\":\"\",\"zerolinecolor\":\"white\",\"gridwidth\":2},\"yaxis\":{\"backgroundcolor\":\"#E5ECF6\",\"gridcolor\":\"white\",\"linecolor\":\"white\",\"showbackground\":true,\"ticks\":\"\",\"zerolinecolor\":\"white\",\"gridwidth\":2},\"zaxis\":{\"backgroundcolor\":\"#E5ECF6\",\"gridcolor\":\"white\",\"linecolor\":\"white\",\"showbackground\":true,\"ticks\":\"\",\"zerolinecolor\":\"white\",\"gridwidth\":2}},\"shapedefaults\":{\"line\":{\"color\":\"#2a3f5f\"}},\"annotationdefaults\":{\"arrowcolor\":\"#2a3f5f\",\"arrowhead\":0,\"arrowwidth\":1},\"geo\":{\"bgcolor\":\"white\",\"landcolor\":\"#E5ECF6\",\"subunitcolor\":\"white\",\"showland\":true,\"showlakes\":true,\"lakecolor\":\"white\"},\"title\":{\"x\":0.05},\"mapbox\":{\"style\":\"light\"}}},\"xaxis\":{\"anchor\":\"y\",\"domain\":[0.0,1.0],\"title\":{\"text\":\"category\"},\"categoryorder\":\"array\",\"categoryarray\":[\"books\"]},\"yaxis\":{\"anchor\":\"x\",\"domain\":[0.0,1.0],\"title\":{\"text\":\"price\"}},\"legend\":{\"title\":{\"text\":\"category\"},\"tracegroupgap\":0},\"title\":{\"text\":\"Average Price by Category\"},\"barmode\":\"relative\"},                        {\"responsive\": true}                    ).then(function(){\n",
              "                            \n",
              "var gd = document.getElementById('3312e64b-5991-4820-aef9-f49793a7fd8a');\n",
              "var x = new MutationObserver(function (mutations, observer) {{\n",
              "        var display = window.getComputedStyle(gd).display;\n",
              "        if (!display || display === 'none') {{\n",
              "            console.log([gd, 'removed!']);\n",
              "            Plotly.purge(gd);\n",
              "            observer.disconnect();\n",
              "        }}\n",
              "}});\n",
              "\n",
              "// Listen for the removal of the full notebook cells\n",
              "var notebookContainer = gd.closest('#notebook-container');\n",
              "if (notebookContainer) {{\n",
              "    x.observe(notebookContainer, {childList: true});\n",
              "}}\n",
              "\n",
              "// Listen for the clearing of the current output cell\n",
              "var outputEl = gd.closest('.output');\n",
              "if (outputEl) {{\n",
              "    x.observe(outputEl, {childList: true});\n",
              "}}\n",
              "\n",
              "                        })                };                            </script>        </div>\n",
              "</body>\n",
              "</html>"
            ]
          },
          "metadata": {}
        }
      ]
    }
  ]
}