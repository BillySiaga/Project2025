{
  "nbformat": 4,
  "nbformat_minor": 0,
  "metadata": {
    "colab": {
      "provenance": [],
      "authorship_tag": "ABX9TyMLMZD+xXVpzVayFESITmNR",
      "include_colab_link": true
    },
    "kernelspec": {
      "name": "python3",
      "display_name": "Python 3"
    },
    "language_info": {
      "name": "python"
    }
  },
  "cells": [
    {
      "cell_type": "markdown",
      "metadata": {
        "id": "view-in-github",
        "colab_type": "text"
      },
      "source": [
        "<a href=\"https://colab.research.google.com/github/BillySiaga/Project2025/blob/main/Creating_a_Bank_Account.ipynb\" target=\"_parent\"><img src=\"https://colab.research.google.com/assets/colab-badge.svg\" alt=\"Open In Colab\"/></a>"
      ]
    },
    {
      "cell_type": "markdown",
      "source": [
        "# **Creating a Bank Account**\n",
        "What You're Aiming For\n",
        "\n",
        "'''The objective is to create a Python class named \"Account\" with methods for depositing, withdrawing, and checking balances, encapsulated in a script called \"bank_account.py\" to simulate basic bank account operations.\n",
        "\n",
        "\n",
        "\n",
        "Create a class called \"Account\" that has the following attributes:\n",
        "\n",
        "account_number (string)\n",
        "account_balance (float)\n",
        "account_holder (string)\n",
        "The class should have the following methods:\n",
        "\n",
        "deposit(amount: float) - This method should add the amount passed as an argument to the account balance.\n",
        "withdraw(amount: float) - This method should subtract the amount passed as an argument from the account balance, but only if the account balance is greater than the amount being withdrawn.\n",
        "check_balance() - This method should return the current account balance.\n",
        "\n",
        "Instructions\n",
        "\n",
        "\n",
        "\n",
        "Define the Account class and its attributes as specified above.\n",
        "Define the deposit() method. It should take in one argument, the amount to be deposited, and add it to the account balance.\n",
        "Define the withdraw() method. It should take in one argument, the amount to be withdrawn, and subtract it from the account balance. The method should only execute the withdrawal if the account balance is greater than or equal to the amount to be withdrawn.\n",
        "Define the check_balance() method. It should return the current account balance.\n",
        "Create an instance of the Account class, and assign it to a variable called \"my_account\".\n",
        "Use the methods of the class to deposit and withdraw money from the account, and check the account balance.\n",
        "Test the program by creating multiple instances of the class and performing different transactions on them.'''"
      ],
      "metadata": {
        "id": "n9Bmi19BWO3-"
      }
    },
    {
      "cell_type": "code",
      "source": [
        "#Creating a bank account with the following attributes account_number (string)\n",
        "# account_balance (float)\n",
        "# account_holder (string)\n",
        "\n",
        "class Account:\n",
        "    def __init__(self, account_number: str, account_holder: str, account_balance: float = 0.0):\n",
        "        self.account_number = account_number\n",
        "        self.account_holder = account_holder\n",
        "        self.account_balance = account_balance\n",
        "# Define the deposit() method. It should take in one argument, the amount to be deposited, and add it to the account balance.\n",
        "    def deposit(self, amount: float):\n",
        "        if amount > 0:\n",
        "            self.account_balance += amount\n",
        "            print(f\"Deposited: {amount}. New balance: {self.account_balance}\")\n",
        "        else:\n",
        "            print(\"Deposit amount must be greater than 0.\")\n",
        "# Define the withdraw() method. It should take in one argument, the amount to be withdrawn, and subtract it from the account balance.\n",
        "# The method should only execute the withdrawal if the account balance is greater than or equal to the amount to be withdrawn.\n",
        "    def withdraw(self, amount: float):\n",
        "        if amount > self.account_balance:\n",
        "            print(\"Insufficient balance for withdrawal.\")\n",
        "        elif amount > 0:\n",
        "            self.account_balance -= amount\n",
        "            print(f\"Withdrawn: {amount}. New balance: {self.account_balance}\")\n",
        "        else:\n",
        "            print(\"Withdrawal amount must be greater than 0.\")\n",
        "#Defining the check_balance() method. It should return the current account balance.\n",
        "\n",
        "    def check_balance(self):\n",
        "        print(f\"Current balance: {self.account_balance}\")\n",
        "        return self.account_balance\n",
        "\n",
        "# Creating an instance of the Account class\n",
        "my_account = Account(account_number=\"12345678\", account_holder=\"Billy Otieno\", account_balance=100.0)\n",
        "\n",
        "# Perform transactions\n",
        "my_account.deposit(50)\n",
        "my_account.withdraw(30)\n",
        "my_account.check_balance()\n",
        "\n",
        "# Testing with other accounts\n",
        "account_1 = Account(account_number=\"87654321\", account_holder=\"Dan Maghufuli\", account_balance=200.0)\n",
        "account_2 = Account(account_number=\"11223344\", account_holder=\"Alice wanyama\", account_balance=150.0)\n",
        "\n",
        "account_1.deposit(100)\n",
        "account_2.withdraw(50)\n",
        "account_1.check_balance()\n",
        "account_2.check_balance()\n"
      ],
      "metadata": {
        "colab": {
          "base_uri": "https://localhost:8080/"
        },
        "collapsed": true,
        "id": "6dQwHlVXUOZI",
        "outputId": "653f9432-43df-4870-d974-f93ea661498e"
      },
      "execution_count": 2,
      "outputs": [
        {
          "output_type": "stream",
          "name": "stdout",
          "text": [
            "Deposited: 50. New balance: 150.0\n",
            "Withdrawn: 30. New balance: 120.0\n",
            "Current balance: 120.0\n",
            "Deposited: 100. New balance: 300.0\n",
            "Withdrawn: 50. New balance: 100.0\n",
            "Current balance: 300.0\n",
            "Current balance: 100.0\n"
          ]
        },
        {
          "output_type": "execute_result",
          "data": {
            "text/plain": [
              "100.0"
            ]
          },
          "metadata": {},
          "execution_count": 2
        }
      ]
    }
  ]
}