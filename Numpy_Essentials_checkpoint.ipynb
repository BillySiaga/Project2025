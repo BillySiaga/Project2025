{
  "nbformat": 4,
  "nbformat_minor": 0,
  "metadata": {
    "colab": {
      "provenance": [],
      "authorship_tag": "ABX9TyP1p7NmX3hpSg+se386T8Fx",
      "include_colab_link": true
    },
    "kernelspec": {
      "name": "python3",
      "display_name": "Python 3"
    },
    "language_info": {
      "name": "python"
    }
  },
  "cells": [
    {
      "cell_type": "markdown",
      "metadata": {
        "id": "view-in-github",
        "colab_type": "text"
      },
      "source": [
        "<a href=\"https://colab.research.google.com/github/BillySiaga/Project2025/blob/main/Numpy_Essentials_checkpoint.ipynb\" target=\"_parent\"><img src=\"https://colab.research.google.com/assets/colab-badge.svg\" alt=\"Open In Colab\"/></a>"
      ]
    },
    {
      "cell_type": "markdown",
      "source": [
        "# Checkpoint\n",
        "What You're Aiming For\n",
        "\n",
        "The objective  is to utilize the NumPy library to perform detailed analysis on a dataset of student grades. This includes calculating statistical measures, identifying trends, and extracting subsets of data to understand the performance and achievements of students within a specific grading scale.\n",
        "\n",
        "\n",
        "Instructions\n",
        "\n",
        "Create a numpy array called \"grades\" that contains the following grades: [85, 90, 88, 92, 95, 80, 75, 98, 89, 83]\n",
        "\n",
        "Import the numpy library and create the \"grades\" array as specified above.\n",
        "Use numpy functions to calculate the mean, median, and standard deviation of the grades.\n",
        "Use numpy function to find the maximum and minimum of the grades.\n",
        "Use numpy function to sort the grades in ascending order.\n",
        "Use numpy function to find the index of the highest grade in the array.\n",
        "Use numpy function to count the number of students who scored above 90.\n",
        "Use numpy function to calculate the percentage of students who scored above 90.\n",
        "Use numpy function to calculate the percentage of students who scored below 75.\n",
        "Use numpy function to extract all the grades above 90 and put them in a new array called \"high_performers\".\n",
        "Create a new array called \"passing_grades\" that contains all the grades above 75.\n",
        "Print the result of all the above steps.\n",
        "Note:\n",
        "\n",
        "to calculate percentage use numpy.mean(grades > 90) * 100\n",
        "to extract the grades above 90 use grades[grades > 90]\n",
        "to extract the grades above 75 use grades[grades > 75]\n",
        "You can use other numpy functions as well to analyze the data as you want. The above steps are just examples of what can be done."
      ],
      "metadata": {
        "id": "ar9ErBMoOWeC"
      }
    },
    {
      "cell_type": "markdown",
      "source": [
        "# Use numpy functions to calculate the mean, median, and standard deviation of the grades."
      ],
      "metadata": {
        "id": "S_hGB1oxU0zX"
      }
    },
    {
      "cell_type": "markdown",
      "source": [
        "Create a numpy array called \"grades\" that contains the following grades: [85, 90, 88, 92, 95, 80, 75, 98, 89, 83]\n",
        "\n",
        "Import the numpy library and create the \"grades\" array as specified above.\n",
        "Use numpy functions to calculate the mean, median, and standard deviation of the grades.\n",
        "Use numpy function to find the maximum and minimum of the grades."
      ],
      "metadata": {
        "id": "LNiE2tfp_bYF"
      }
    },
    {
      "cell_type": "code",
      "execution_count": 2,
      "metadata": {
        "colab": {
          "base_uri": "https://localhost:8080/"
        },
        "id": "tUJ7Va0yNMWv",
        "outputId": "1cc6234a-f9bd-4f48-a415-9db99364eedc"
      },
      "outputs": [
        {
          "output_type": "stream",
          "name": "stdout",
          "text": [
            "[[85 90 88 92 95 80 75 98 89 83]]\n",
            "87.5\n",
            "88.5\n",
            "6.591661399070799\n"
          ]
        }
      ],
      "source": [
        "# Create a numpy array called \"grades\" that contains the following grades: [85, 90, 88, 92, 95, 80, 75, 98, 89, 83]\n",
        "\n",
        "# Import the numpy library and create the \"grades\" array as specified above.\n",
        "# Use numpy functions to calculate the mean, median, and standard deviation of the grades.\n",
        "# Use numpy function to find the maximum and minimum of the grades.\n",
        "#\n",
        "import numpy as np\n",
        "Grades = np.array([[85, 90, 88, 92, 95, 80, 75, 98, 89, 83]])\n",
        "print(Grades)\n",
        "mean_value = np.mean(Grades)\n",
        "print(mean_value)\n",
        "# calculating median value\n",
        "median_value = np.median(Grades)\n",
        "print(median_value)\n",
        "#calculating the standard deviation of the array\n",
        "standard_dev= np.std(Grades)\n",
        "print(standard_dev)\n"
      ]
    },
    {
      "cell_type": "markdown",
      "source": [
        "**# Use numpy function to find the maximum and minimum of the grades.**"
      ],
      "metadata": {
        "id": "B3JXnX6hUjDV"
      }
    },
    {
      "cell_type": "code",
      "source": [
        "#Use numpy function to find the maximum of the grades.\n",
        "Grades = np.array([[85, 90, 88, 92, 95, 80, 75, 98, 89, 83]])\n",
        "max_value_arr_max = Grades.max()\n",
        "print(f\"maximum value of the Grades is: {max_value_arr_max}\")"
      ],
      "metadata": {
        "colab": {
          "base_uri": "https://localhost:8080/"
        },
        "id": "HJFaQF9wSfrZ",
        "outputId": "77ca4130-9296-46f0-bff5-4c5812556dc2"
      },
      "execution_count": 3,
      "outputs": [
        {
          "output_type": "stream",
          "name": "stdout",
          "text": [
            "maximum value of the Grades is: 98\n"
          ]
        }
      ]
    },
    {
      "cell_type": "code",
      "source": [
        "#Use numpy function to find the minimum of the grades.\n",
        "Grades = np.array([[85, 90, 88, 92, 95, 80, 75, 98, 89, 83]])\n",
        "min_value_arr_min = Grades.min()\n",
        "print(f\"Minimum value of the Grades is: {min_value_arr_min}\")"
      ],
      "metadata": {
        "colab": {
          "base_uri": "https://localhost:8080/"
        },
        "id": "Y1MqufkOUNkU",
        "outputId": "d28779f4-d61b-4051-cf38-2809b4ffc926"
      },
      "execution_count": 4,
      "outputs": [
        {
          "output_type": "stream",
          "name": "stdout",
          "text": [
            "Minimum value of the Grades is: 75\n"
          ]
        }
      ]
    },
    {
      "cell_type": "markdown",
      "source": [
        "# **Use numpy function to sort the grades in ascending order.**"
      ],
      "metadata": {
        "id": "qEKSEkxbU_4X"
      }
    },
    {
      "cell_type": "code",
      "source": [
        "Grades = np.array([[85, 90, 88, 92, 95, 80, 75, 98, 89, 83]])\n",
        "Grades_ascending = np.sort(Grades)\n",
        "print(f\"Grades in ascending order: {Grades_ascending}\")"
      ],
      "metadata": {
        "colab": {
          "base_uri": "https://localhost:8080/"
        },
        "id": "Z75xELgvVDyF",
        "outputId": "574cb290-cffb-4fc3-b6f7-70453efd339a"
      },
      "execution_count": 7,
      "outputs": [
        {
          "output_type": "stream",
          "name": "stdout",
          "text": [
            "Grades in ascending order: [[75 80 83 85 88 89 90 92 95 98]]\n"
          ]
        }
      ]
    },
    {
      "cell_type": "markdown",
      "source": [
        "# **Use numpy function to find the index of the highest grade in the array**"
      ],
      "metadata": {
        "id": "76IgJ1fE1l7X"
      }
    },
    {
      "cell_type": "code",
      "source": [
        "#index of the highest grade in the array\n",
        "Grades = np.array([[85, 90, 88, 92, 95, 80, 75, 98, 89, 83]])\n",
        "Highest_grade_index = np.argmax(Grades)\n",
        "print(f\"Highest grade index: {Highest_grade_index}\")"
      ],
      "metadata": {
        "colab": {
          "base_uri": "https://localhost:8080/"
        },
        "id": "gCKf4CJ91p-e",
        "outputId": "6c355e2a-4eff-4e44-9435-3490ab1e5031"
      },
      "execution_count": 8,
      "outputs": [
        {
          "output_type": "stream",
          "name": "stdout",
          "text": [
            "Highest grade index: 7\n"
          ]
        }
      ]
    },
    {
      "cell_type": "markdown",
      "source": [
        "# **Use numpy function to count the number of students who scored above 90.**"
      ],
      "metadata": {
        "id": "yTnWJkNt3BB9"
      }
    },
    {
      "cell_type": "code",
      "source": [
        "# number of students who scored above 90\n",
        "#\n",
        "Grades = np.array([[85, 90, 88, 92, 95, 80, 75, 98, 89, 83]])\n",
        "condition = Grades > 90\n",
        "counts_above_90 = np.sum(condition)\n",
        "print(f\"Number of students who scored above 90: {counts_above_90}\")"
      ],
      "metadata": {
        "colab": {
          "base_uri": "https://localhost:8080/"
        },
        "id": "drP3amn43DyM",
        "outputId": "36429174-3edf-4751-e40c-495e67389286"
      },
      "execution_count": 10,
      "outputs": [
        {
          "output_type": "stream",
          "name": "stdout",
          "text": [
            "Number of students who scored above 90: 3\n"
          ]
        }
      ]
    },
    {
      "cell_type": "markdown",
      "source": [
        "# **Use numpy function to calculate the percentage of students who scored below 75**."
      ],
      "metadata": {
        "id": "SKhNbQz7-cPb"
      }
    },
    {
      "cell_type": "code",
      "source": [
        "#claculating the percentage of students who scored above 75\n",
        "#\n",
        "Grades = np.array([[85, 90, 88, 92, 95, 80, 75, 98, 89, 83]])\n",
        "Percentage_above_75 = np.mean(Grades > 75) * 100\n",
        "print(f\"Percentage of students who scored above 75: {Percentage_above_75}\")"
      ],
      "metadata": {
        "colab": {
          "base_uri": "https://localhost:8080/"
        },
        "id": "-CXtKdXY-fRI",
        "outputId": "f02f3829-5d3e-4f10-f18f-93f15ff9392d"
      },
      "execution_count": 28,
      "outputs": [
        {
          "output_type": "stream",
          "name": "stdout",
          "text": [
            "Percentage of students who scored above 75: 90.0\n"
          ]
        }
      ]
    },
    {
      "cell_type": "markdown",
      "source": [
        "# **Use numpy function to calculate the percentage of students who scored above 90.**"
      ],
      "metadata": {
        "id": "P52YE6184fYX"
      }
    },
    {
      "cell_type": "code",
      "source": [
        "# calculate the percentage of students who scored above 90\n",
        "#\n",
        "Grades = np.array([[85, 90, 88, 92, 95, 80, 75, 98, 89, 83]])\n",
        "Percentage_above_90 = np.mean(Grades > 90) * 100\n",
        "print(f\"Percentage of students who scored above 90: {Percentage_above_90}%\")"
      ],
      "metadata": {
        "colab": {
          "base_uri": "https://localhost:8080/"
        },
        "id": "xwf08SlV4n5n",
        "outputId": "ed760086-922b-40f9-cd49-af427f937905"
      },
      "execution_count": 15,
      "outputs": [
        {
          "output_type": "stream",
          "name": "stdout",
          "text": [
            "Percentage of students who scored above 90: 30.0%\n"
          ]
        }
      ]
    },
    {
      "cell_type": "markdown",
      "source": [
        "# **Use numpy function to extract all the grades above 90 and put them in a new array called \"high_performers\".**"
      ],
      "metadata": {
        "id": "IbYzhdMr7LzP"
      }
    },
    {
      "cell_type": "code",
      "source": [
        "# Extracting all the grades above 90 and putting in a new array \"high_performers\"\n",
        "#\n",
        "Grades = np.array([[85, 90, 88, 92, 95, 80, 75, 98, 89, 83]])\n",
        "high_performers = Grades[Grades > 90]\n",
        "print(f\"high_performers = {high_performers}\")"
      ],
      "metadata": {
        "colab": {
          "base_uri": "https://localhost:8080/"
        },
        "id": "c4eexXZl7PCH",
        "outputId": "b1f96fa8-588c-4704-83b2-6a6abeaa7047"
      },
      "execution_count": 25,
      "outputs": [
        {
          "output_type": "stream",
          "name": "stdout",
          "text": [
            "high_performers = [92 95 98]\n"
          ]
        }
      ]
    },
    {
      "cell_type": "markdown",
      "source": [
        "# **Create a new array called \"passing_grades\" that contains all the grades above 75.**"
      ],
      "metadata": {
        "id": "_tp7dKRn9w-2"
      }
    },
    {
      "cell_type": "code",
      "source": [
        "# creating a new array called \"passing_grades\" with grades above 75\n",
        "#\n",
        "Grades = np.array([[85, 90, 88, 92, 95, 80, 75, 98, 89, 83]])\n",
        "passing_grades = Grades[Grades > 75]\n",
        "print(f\"passing_grades = {passing_grades}\")"
      ],
      "metadata": {
        "colab": {
          "base_uri": "https://localhost:8080/"
        },
        "id": "HZKhNzZB9zHd",
        "outputId": "f881d58a-645e-460c-c30c-ed46374282fb"
      },
      "execution_count": 26,
      "outputs": [
        {
          "output_type": "stream",
          "name": "stdout",
          "text": [
            "passing_grades = [85 90 88 92 95 80 98 89 83]\n"
          ]
        }
      ]
    }
  ]
}